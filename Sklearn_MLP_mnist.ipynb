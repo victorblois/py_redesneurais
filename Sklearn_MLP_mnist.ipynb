{
 "cells": [
  {
   "cell_type": "code",
   "execution_count": 16,
   "metadata": {},
   "outputs": [],
   "source": [
    "import numpy as np\n",
    "\n",
    "import matplotlib.pyplot as plt\n",
    "%matplotlib inline\n",
    "\n",
    "import warnings\n",
    "warnings.filterwarnings('ignore')\n",
    "\n",
    "from keras.datasets import mnist\n",
    "#https://elitedatascience.com/keras-tutorial-deep-learning-in-python"
   ]
  },
  {
   "cell_type": "markdown",
   "metadata": {},
   "source": [
    "# Importar Dataset de imagens de caracteres"
   ]
  },
  {
   "cell_type": "code",
   "execution_count": 17,
   "metadata": {},
   "outputs": [],
   "source": [
    "(X_train,y_train),(X_test,y_test) = mnist.load_data()"
   ]
  },
  {
   "cell_type": "markdown",
   "metadata": {},
   "source": [
    "# Analisar Dataset"
   ]
  },
  {
   "cell_type": "code",
   "execution_count": 18,
   "metadata": {},
   "outputs": [
    {
     "data": {
      "text/plain": [
       "(numpy.ndarray, numpy.ndarray)"
      ]
     },
     "execution_count": 18,
     "metadata": {},
     "output_type": "execute_result"
    }
   ],
   "source": [
    "type(X_train),type(y_train)"
   ]
  },
  {
   "cell_type": "code",
   "execution_count": 19,
   "metadata": {},
   "outputs": [
    {
     "data": {
      "text/plain": [
       "((60000, 28, 28), (60000,))"
      ]
     },
     "execution_count": 19,
     "metadata": {},
     "output_type": "execute_result"
    }
   ],
   "source": [
    "X_train.shape,y_train.shape"
   ]
  },
  {
   "cell_type": "code",
   "execution_count": 20,
   "metadata": {},
   "outputs": [
    {
     "data": {
      "text/plain": [
       "((10000, 28, 28), (10000,))"
      ]
     },
     "execution_count": 20,
     "metadata": {},
     "output_type": "execute_result"
    }
   ],
   "source": [
    "X_test.shape,y_test.shape"
   ]
  },
  {
   "cell_type": "code",
   "execution_count": 21,
   "metadata": {},
   "outputs": [
    {
     "data": {
      "text/plain": [
       "5"
      ]
     },
     "execution_count": 21,
     "metadata": {},
     "output_type": "execute_result"
    }
   ],
   "source": [
    "y_train[0]"
   ]
  },
  {
   "cell_type": "markdown",
   "metadata": {},
   "source": [
    "# Plotar item"
   ]
  },
  {
   "cell_type": "code",
   "execution_count": 22,
   "metadata": {},
   "outputs": [],
   "source": [
    "#X_train[0, :, :]"
   ]
  },
  {
   "cell_type": "code",
   "execution_count": 23,
   "metadata": {},
   "outputs": [],
   "source": [
    "plt.rcParams['figure.figsize'] = 3,3"
   ]
  },
  {
   "cell_type": "code",
   "execution_count": 24,
   "metadata": {},
   "outputs": [
    {
     "data": {
      "text/plain": [
       "<matplotlib.image.AxesImage at 0x20f61384f88>"
      ]
     },
     "execution_count": 24,
     "metadata": {},
     "output_type": "execute_result"
    },
    {
     "data": {
      "image/png": "[encoded data removed]",
      "text/plain": [
       "<Figure size 216x216 with 1 Axes>"
      ]
     },
     "metadata": {
      "needs_background": "light"
     },
     "output_type": "display_data"
    }
   ],
   "source": [
    "plt.imshow(X_train[0, :, :],cmap='gray')"
   ]
  },
  {
   "cell_type": "code",
   "execution_count": 25,
   "metadata": {},
   "outputs": [
    {
     "data": {
      "text/plain": [
       "array([0, 1, 2, 3, 4, 5, 6, 7, 8, 9], dtype=uint8)"
      ]
     },
     "execution_count": 25,
     "metadata": {},
     "output_type": "execute_result"
    }
   ],
   "source": [
    "np.unique(y_train)"
   ]
  },
  {
   "cell_type": "code",
   "execution_count": 26,
   "metadata": {},
   "outputs": [
    {
     "data": {
      "text/plain": [
       "array([0, 1, 2, 3, 4, 5, 6, 7, 8, 9], dtype=uint8)"
      ]
     },
     "execution_count": 26,
     "metadata": {},
     "output_type": "execute_result"
    }
   ],
   "source": [
    "np.unique(y_test)"
   ]
  },
  {
   "cell_type": "code",
   "execution_count": 27,
   "metadata": {},
   "outputs": [
    {
     "data": {
      "text/plain": [
       "<matplotlib.image.AxesImage at 0x20f61b80fc8>"
      ]
     },
     "execution_count": 27,
     "metadata": {},
     "output_type": "execute_result"
    },
    {
     "data": {
      "image/png": "[encoded data removed]",
      "text/plain": [
       "<Figure size 216x216 with 1 Axes>"
      ]
     },
     "metadata": {
      "needs_background": "light"
     },
     "output_type": "display_data"
    }
   ],
   "source": [
    "plt.imshow(X_train[2, :, :]/4+127,cmap='gray',vmin=0,vmax=255)"
   ]
  },
  {
   "cell_type": "code",
   "execution_count": 28,
   "metadata": {},
   "outputs": [],
   "source": [
    "X_train = X_train.reshape(60000,784)"
   ]
  },
  {
   "cell_type": "code",
   "execution_count": 29,
   "metadata": {},
   "outputs": [],
   "source": [
    "X_test = X_test.reshape(10000,784)"
   ]
  },
  {
   "cell_type": "markdown",
   "metadata": {},
   "source": [
    "## Normalizar e resolver compatibilidade entre python 2 e 3"
   ]
  },
  {
   "cell_type": "code",
   "execution_count": 65,
   "metadata": {},
   "outputs": [],
   "source": [
    "X_train.astype('float32')\n",
    "X_train = X_train /255"
   ]
  },
  {
   "cell_type": "code",
   "execution_count": 66,
   "metadata": {},
   "outputs": [],
   "source": [
    "X_test.astype('float32')\n",
    "X_test = X_test /255"
   ]
  },
  {
   "cell_type": "code",
   "execution_count": 67,
   "metadata": {},
   "outputs": [],
   "source": [
    "from keras.utils import to_categorical"
   ]
  },
  {
   "cell_type": "markdown",
   "metadata": {},
   "source": [
    "## Para o Keras precisa estar em dummy categorical a variavel de saida"
   ]
  },
  {
   "cell_type": "code",
   "execution_count": 68,
   "metadata": {},
   "outputs": [],
   "source": [
    "y_train = to_categorical(y_train,10)"
   ]
  },
  {
   "cell_type": "code",
   "execution_count": 69,
   "metadata": {},
   "outputs": [],
   "source": [
    "y_test = to_categorical(y_test,10)"
   ]
  },
  {
   "cell_type": "code",
   "execution_count": 70,
   "metadata": {},
   "outputs": [
    {
     "data": {
      "text/plain": [
       "((60000, 784), (60000, 10))"
      ]
     },
     "execution_count": 70,
     "metadata": {},
     "output_type": "execute_result"
    }
   ],
   "source": [
    "X_train.shape,y_train.shape"
   ]
  },
  {
   "cell_type": "code",
   "execution_count": 71,
   "metadata": {},
   "outputs": [
    {
     "data": {
      "text/plain": [
       "array([0., 0., 0., 0., 0., 1., 0., 0., 0., 0.], dtype=float32)"
      ]
     },
     "execution_count": 71,
     "metadata": {},
     "output_type": "execute_result"
    }
   ],
   "source": [
    "y_train[0]"
   ]
  },
  {
   "cell_type": "markdown",
   "metadata": {},
   "source": [
    "## Treinar modelo"
   ]
  },
  {
   "cell_type": "code",
   "execution_count": 72,
   "metadata": {},
   "outputs": [],
   "source": [
    "from sklearn.neural_network import MLPClassifier"
   ]
  },
  {
   "cell_type": "code",
   "execution_count": 81,
   "metadata": {},
   "outputs": [],
   "source": [
    "model = MLPClassifier(hidden_layer_sizes=(),\n",
    "                     verbose=True,\n",
    "                     alpha=0.3,\n",
    "                     random_state=42)"
   ]
  },
  {
   "cell_type": "code",
   "execution_count": 82,
   "metadata": {},
   "outputs": [
    {
     "name": "stdout",
     "output_type": "stream",
     "text": [
      "Iteration 1, loss = 2.17868624\n",
      "Iteration 2, loss = 1.20764202\n",
      "Iteration 3, loss = 1.04012126\n",
      "Iteration 4, loss = 0.97245427\n",
      "Iteration 5, loss = 0.93771958\n",
      "Iteration 6, loss = 0.91680962\n",
      "Iteration 7, loss = 0.90297993\n",
      "Iteration 8, loss = 0.89267518\n",
      "Iteration 9, loss = 0.88465874\n",
      "Iteration 10, loss = 0.87792134\n",
      "Iteration 11, loss = 0.87219171\n",
      "Iteration 12, loss = 0.86701583\n",
      "Iteration 13, loss = 0.86236987\n",
      "Iteration 14, loss = 0.85801238\n",
      "Iteration 15, loss = 0.85400209\n",
      "Iteration 16, loss = 0.85058467\n",
      "Iteration 17, loss = 0.84733627\n",
      "Iteration 18, loss = 0.84409006\n",
      "Iteration 19, loss = 0.84112693\n",
      "Iteration 20, loss = 0.83855347\n",
      "Iteration 21, loss = 0.83622968\n",
      "Iteration 22, loss = 0.83355537\n",
      "Iteration 23, loss = 0.83164702\n",
      "Iteration 24, loss = 0.82970002\n",
      "Iteration 25, loss = 0.82792397\n",
      "Iteration 26, loss = 0.82619057\n",
      "Iteration 27, loss = 0.82487083\n",
      "Iteration 28, loss = 0.82315702\n",
      "Iteration 29, loss = 0.82233927\n",
      "Iteration 30, loss = 0.82052960\n",
      "Iteration 31, loss = 0.81999797\n",
      "Iteration 32, loss = 0.81910495\n",
      "Iteration 33, loss = 0.81792615\n",
      "Iteration 34, loss = 0.81677869\n",
      "Iteration 35, loss = 0.81616543\n",
      "Iteration 36, loss = 0.81560247\n",
      "Iteration 37, loss = 0.81529048\n",
      "Iteration 38, loss = 0.81422787\n",
      "Iteration 39, loss = 0.81378111\n",
      "Iteration 40, loss = 0.81341024\n",
      "Iteration 41, loss = 0.81299056\n",
      "Iteration 42, loss = 0.81229698\n",
      "Iteration 43, loss = 0.81227476\n",
      "Iteration 44, loss = 0.81141439\n",
      "Iteration 45, loss = 0.81113944\n",
      "Iteration 46, loss = 0.81050194\n",
      "Iteration 47, loss = 0.81032967\n",
      "Iteration 48, loss = 0.81053554\n",
      "Iteration 49, loss = 0.81013649\n",
      "Iteration 50, loss = 0.80977370\n",
      "Iteration 51, loss = 0.80973487\n",
      "Iteration 52, loss = 0.80937430\n",
      "Iteration 53, loss = 0.80898767\n",
      "Iteration 54, loss = 0.80915552\n",
      "Iteration 55, loss = 0.80902815\n",
      "Iteration 56, loss = 0.80892302\n",
      "Iteration 57, loss = 0.80878103\n",
      "Iteration 58, loss = 0.80844418\n",
      "Iteration 59, loss = 0.80833378\n",
      "Iteration 60, loss = 0.80825685\n",
      "Iteration 61, loss = 0.80819752\n",
      "Iteration 62, loss = 0.80804153\n",
      "Iteration 63, loss = 0.80801218\n",
      "Iteration 64, loss = 0.80780043\n",
      "Iteration 65, loss = 0.80775479\n",
      "Iteration 66, loss = 0.80778887\n",
      "Iteration 67, loss = 0.80774542\n",
      "Iteration 68, loss = 0.80775839\n",
      "Iteration 69, loss = 0.80761046\n",
      "Iteration 70, loss = 0.80784630\n",
      "Iteration 71, loss = 0.80780001\n",
      "Iteration 72, loss = 0.80737163\n",
      "Iteration 73, loss = 0.80721027\n",
      "Iteration 74, loss = 0.80711730\n",
      "Iteration 75, loss = 0.80764672\n",
      "Iteration 76, loss = 0.80737759\n",
      "Iteration 77, loss = 0.80728886\n",
      "Iteration 78, loss = 0.80728464\n",
      "Iteration 79, loss = 0.80744071\n",
      "Iteration 80, loss = 0.80724045\n",
      "Iteration 81, loss = 0.80732325\n",
      "Iteration 82, loss = 0.80700277\n",
      "Iteration 83, loss = 0.80722844\n",
      "Iteration 84, loss = 0.80733798\n",
      "Iteration 85, loss = 0.80722980\n",
      "Iteration 86, loss = 0.80710831\n",
      "Iteration 87, loss = 0.80700965\n",
      "Iteration 88, loss = 0.80714780\n",
      "Iteration 89, loss = 0.80752245\n",
      "Iteration 90, loss = 0.80682432\n",
      "Iteration 91, loss = 0.80706402\n",
      "Iteration 92, loss = 0.80712429\n",
      "Iteration 93, loss = 0.80703319\n",
      "Iteration 94, loss = 0.80704657\n",
      "Iteration 95, loss = 0.80723201\n",
      "Iteration 96, loss = 0.80689678\n",
      "Iteration 97, loss = 0.80711963\n",
      "Iteration 98, loss = 0.80689237\n",
      "Iteration 99, loss = 0.80721764\n",
      "Iteration 100, loss = 0.80721404\n",
      "Iteration 101, loss = 0.80690969\n",
      "Training loss did not improve more than tol=0.000100 for 10 consecutive epochs. Stopping.\n"
     ]
    },
    {
     "data": {
      "text/plain": [
       "MLPClassifier(activation='relu', alpha=0.3, batch_size='auto', beta_1=0.9,\n",
       "              beta_2=0.999, early_stopping=False, epsilon=1e-08,\n",
       "              hidden_layer_sizes=(), learning_rate='constant',\n",
       "              learning_rate_init=0.001, max_fun=15000, max_iter=200,\n",
       "              momentum=0.9, n_iter_no_change=10, nesterovs_momentum=True,\n",
       "              power_t=0.5, random_state=42, shuffle=True, solver='adam',\n",
       "              tol=0.0001, validation_fraction=0.1, verbose=True,\n",
       "              warm_start=False)"
      ]
     },
     "execution_count": 82,
     "metadata": {},
     "output_type": "execute_result"
    }
   ],
   "source": [
    "model.fit(X_train,y_train)"
   ]
  },
  {
   "cell_type": "code",
   "execution_count": 84,
   "metadata": {},
   "outputs": [
    {
     "data": {
      "text/plain": [
       "0.8201"
      ]
     },
     "execution_count": 84,
     "metadata": {},
     "output_type": "execute_result"
    }
   ],
   "source": [
    "model.score(X_test,y_test)"
   ]
  },
  {
   "cell_type": "code",
   "execution_count": 85,
   "metadata": {},
   "outputs": [],
   "source": [
    "plt.rcParams['figure.figsize'] = 20,20"
   ]
  },
  {
   "cell_type": "markdown",
   "metadata": {},
   "source": [
    "# Plotar resultado do treino"
   ]
  },
  {
   "cell_type": "code",
   "execution_count": 86,
   "metadata": {},
   "outputs": [
    {
     "data": {
      "image/png": "[encoded data removed]",
      "text/plain": [
       "<Figure size 1440x1440 with 10 Axes>"
      ]
     },
     "metadata": {},
     "output_type": "display_data"
    }
   ],
   "source": [
    "fig,axes = plt.subplots(1,10)\n",
    "vmin,vmax = model.coefs_[0].min(),model.coefs_[0].max()\n",
    "for coef, ax in zip(model.coefs_[0].T, axes.ravel()):\n",
    "    ax.matshow(coef.reshape(28,28),\n",
    "               cmap='gray',\n",
    "               vmin=0.5*vmin,\n",
    "               vmax=0.5*vmax)\n",
    "    ax.set_xticks(())\n",
    "    ax.set_yticks(())"
   ]
  },
  {
   "cell_type": "code",
   "execution_count": null,
   "metadata": {},
   "outputs": [],
   "source": []
  }
 ],
 "metadata": {
  "kernelspec": {
   "display_name": "Python 3",
   "language": "python",
   "name": "python3"
  },
  "language_info": {
   "codemirror_mode": {
    "name": "ipython",
    "version": 3
   },
   "file_extension": ".py",
   "mimetype": "text/x-python",
   "name": "python",
   "nbconvert_exporter": "python",
   "pygments_lexer": "ipython3",
   "version": "3.7.6"
  }
 },
 "nbformat": 4,
 "nbformat_minor": 4
}
