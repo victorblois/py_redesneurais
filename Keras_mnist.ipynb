{
 "cells": [
  {
   "cell_type": "code",
   "execution_count": 120,
   "metadata": {},
   "outputs": [],
   "source": [
    "from sklearn import datasets\n",
    "from sklearn.model_selection import train_test_split\n",
    "from yellowbrick.classifier import ConfusionMatrix\n",
    "\n",
    "from keras.models import Sequential\n",
    "from keras.layers import Dense, Dropout\n",
    "from keras.utils import np_utils\n",
    "\n",
    "import numpy as np\n",
    "np.set_printoptions(suppress=True)\n",
    "from sklearn.metrics import confusion_matrix\n",
    "\n",
    "import warnings\n",
    "warnings.filterwarnings(\"ignore\")\n",
    "\n",
    "import numpy as np\n",
    "\n",
    "import matplotlib.pyplot as plt\n",
    "%matplotlib inline\n",
    "\n",
    "from keras.datasets import mnist\n",
    "#https://elitedatascience.com/keras-tutorial-deep-learning-in-python"
   ]
  },
  {
   "cell_type": "markdown",
   "metadata": {},
   "source": [
    "# Importar Dataset de imagens de caracteres"
   ]
  },
  {
   "cell_type": "code",
   "execution_count": 84,
   "metadata": {},
   "outputs": [],
   "source": [
    "(X_train,y_train),(X_test,y_test) = mnist.load_data()\n",
    "(X1_train,y1_train) = (X_train,y_train)"
   ]
  },
  {
   "cell_type": "markdown",
   "metadata": {},
   "source": [
    "# Analisar Dataset"
   ]
  },
  {
   "cell_type": "code",
   "execution_count": 85,
   "metadata": {},
   "outputs": [
    {
     "data": {
      "text/plain": [
       "(numpy.ndarray, numpy.ndarray)"
      ]
     },
     "execution_count": 85,
     "metadata": {},
     "output_type": "execute_result"
    }
   ],
   "source": [
    "type(X_train),type(y_train)"
   ]
  },
  {
   "cell_type": "code",
   "execution_count": 86,
   "metadata": {},
   "outputs": [
    {
     "data": {
      "text/plain": [
       "((60000, 28, 28), (60000,))"
      ]
     },
     "execution_count": 86,
     "metadata": {},
     "output_type": "execute_result"
    }
   ],
   "source": [
    "X_train.shape,y_train.shape"
   ]
  },
  {
   "cell_type": "code",
   "execution_count": 87,
   "metadata": {},
   "outputs": [
    {
     "data": {
      "text/plain": [
       "((10000, 28, 28), (10000,))"
      ]
     },
     "execution_count": 87,
     "metadata": {},
     "output_type": "execute_result"
    }
   ],
   "source": [
    "X_test.shape,y_test.shape"
   ]
  },
  {
   "cell_type": "code",
   "execution_count": 88,
   "metadata": {},
   "outputs": [
    {
     "data": {
      "text/plain": [
       "5"
      ]
     },
     "execution_count": 88,
     "metadata": {},
     "output_type": "execute_result"
    }
   ],
   "source": [
    "y_train[0]"
   ]
  },
  {
   "cell_type": "markdown",
   "metadata": {},
   "source": [
    "# Plotar item"
   ]
  },
  {
   "cell_type": "code",
   "execution_count": 89,
   "metadata": {},
   "outputs": [],
   "source": [
    "#X_train[0, :, :]"
   ]
  },
  {
   "cell_type": "code",
   "execution_count": 90,
   "metadata": {},
   "outputs": [],
   "source": [
    "plt.rcParams['figure.figsize'] = 3,3"
   ]
  },
  {
   "cell_type": "code",
   "execution_count": 91,
   "metadata": {},
   "outputs": [
    {
     "data": {
      "text/plain": [
       "<matplotlib.image.AxesImage at 0x1f59e2df788>"
      ]
     },
     "execution_count": 91,
     "metadata": {},
     "output_type": "execute_result"
    },
    {
     "data": {
      "image/png": "[encoded data removed]",
      "text/plain": [
       "<Figure size 216x216 with 1 Axes>"
      ]
     },
     "metadata": {
      "needs_background": "light"
     },
     "output_type": "display_data"
    }
   ],
   "source": [
    "plt.imshow(X_train[0, :, :],cmap='gray')"
   ]
  },
  {
   "cell_type": "code",
   "execution_count": 92,
   "metadata": {},
   "outputs": [
    {
     "data": {
      "text/plain": [
       "array([0, 1, 2, 3, 4, 5, 6, 7, 8, 9], dtype=uint8)"
      ]
     },
     "execution_count": 92,
     "metadata": {},
     "output_type": "execute_result"
    }
   ],
   "source": [
    "np.unique(y_train)"
   ]
  },
  {
   "cell_type": "code",
   "execution_count": 93,
   "metadata": {},
   "outputs": [
    {
     "data": {
      "text/plain": [
       "array([0, 1, 2, 3, 4, 5, 6, 7, 8, 9], dtype=uint8)"
      ]
     },
     "execution_count": 93,
     "metadata": {},
     "output_type": "execute_result"
    }
   ],
   "source": [
    "np.unique(y_test)"
   ]
  },
  {
   "cell_type": "code",
   "execution_count": 94,
   "metadata": {},
   "outputs": [
    {
     "data": {
      "text/plain": [
       "<matplotlib.image.AxesImage at 0x1f584347d08>"
      ]
     },
     "execution_count": 94,
     "metadata": {},
     "output_type": "execute_result"
    },
    {
     "data": {
      "image/png": "[encoded data removed]",
      "text/plain": [
       "<Figure size 216x216 with 1 Axes>"
      ]
     },
     "metadata": {
      "needs_background": "light"
     },
     "output_type": "display_data"
    }
   ],
   "source": [
    "plt.imshow(X_train[2, :, :]/4+127,cmap='gray',vmin=0,vmax=255)"
   ]
  },
  {
   "cell_type": "code",
   "execution_count": 95,
   "metadata": {},
   "outputs": [
    {
     "name": "stdout",
     "output_type": "stream",
     "text": [
      "(60000, 28, 28)\n",
      "(60000, 784)\n"
     ]
    }
   ],
   "source": [
    "print(X_train.shape)\n",
    "X_train = X_train.reshape(len(X_train),np.prod(X_train.shape[1:]))\n",
    "print(X_train.shape)                          "
   ]
  },
  {
   "cell_type": "code",
   "execution_count": 96,
   "metadata": {},
   "outputs": [
    {
     "name": "stdout",
     "output_type": "stream",
     "text": [
      "(10000, 28, 28)\n",
      "(10000, 784)\n"
     ]
    }
   ],
   "source": [
    "print(X_test.shape)\n",
    "X_test = X_test.reshape(len(X_test),np.prod(X_test.shape[1:]))\n",
    "print(X_test.shape)       "
   ]
  },
  {
   "cell_type": "markdown",
   "metadata": {},
   "source": [
    "## Normalizar e resolver compatibilidade entre python 2 e 3"
   ]
  },
  {
   "cell_type": "code",
   "execution_count": 97,
   "metadata": {},
   "outputs": [],
   "source": [
    "X_train.astype('float32')\n",
    "X_train =X_train / 255"
   ]
  },
  {
   "cell_type": "code",
   "execution_count": 98,
   "metadata": {},
   "outputs": [],
   "source": [
    "X_test.astype('float32')\n",
    "X_test = X_test /255"
   ]
  },
  {
   "cell_type": "code",
   "execution_count": 99,
   "metadata": {},
   "outputs": [],
   "source": [
    "from keras.utils import to_categorical"
   ]
  },
  {
   "cell_type": "markdown",
   "metadata": {},
   "source": [
    "## Para o Keras precisa estar em dummy categorical a variavel de saida"
   ]
  },
  {
   "cell_type": "code",
   "execution_count": 100,
   "metadata": {},
   "outputs": [],
   "source": [
    "y_train = to_categorical(y_train,10)"
   ]
  },
  {
   "cell_type": "code",
   "execution_count": 101,
   "metadata": {},
   "outputs": [],
   "source": [
    "y_test = to_categorical(y_test,10)"
   ]
  },
  {
   "cell_type": "code",
   "execution_count": 102,
   "metadata": {},
   "outputs": [
    {
     "data": {
      "text/plain": [
       "((60000, 784), (60000, 10))"
      ]
     },
     "execution_count": 102,
     "metadata": {},
     "output_type": "execute_result"
    }
   ],
   "source": [
    "X_train.shape,y_train.shape"
   ]
  },
  {
   "cell_type": "code",
   "execution_count": 103,
   "metadata": {},
   "outputs": [
    {
     "data": {
      "text/plain": [
       "array([0., 0., 0., 0., 0., 1., 0., 0., 0., 0.], dtype=float32)"
      ]
     },
     "execution_count": 103,
     "metadata": {},
     "output_type": "execute_result"
    }
   ],
   "source": [
    "y_train[0]"
   ]
  },
  {
   "cell_type": "markdown",
   "metadata": {},
   "source": [
    "### Criar Rede"
   ]
  },
  {
   "cell_type": "code",
   "execution_count": 104,
   "metadata": {},
   "outputs": [],
   "source": [
    "# units (neuronios camada escondida)\n",
    "# input_dim (atributos previsores)\n",
    "modelo = Sequential()\n",
    "\n",
    "# Primeira camada de neuronios\n",
    "modelo.add(Dense(units=64, \n",
    "                 activation='relu',\n",
    "                 input_dim=784))\n",
    "# Camada de dropout (Zera o valor de alguns neuronios para evitar overfiting)\n",
    "# 0.3 vai zerar 30% dos valores\n",
    "modelo.add(Dropout(0.3))\n",
    "\n",
    "\n",
    "# Segunda camada de neuronios\n",
    "modelo.add(Dense(units=64, \n",
    "                 activation='relu'))\n",
    "modelo.add(Dropout(0.3))\n",
    "\n",
    "# Terceira camada de neuronios\n",
    "modelo.add(Dense(units=64, \n",
    "                 activation='relu'))\n",
    "modelo.add(Dropout(0.3))\n",
    "\n",
    "# Camada de saida units=10 pq tenho 10 classes\n",
    "# activation='softmax' pois tenho várias categorias na saída\n",
    "modelo.add(Dense(units=10,activation='softmax'))"
   ]
  },
  {
   "cell_type": "code",
   "execution_count": 105,
   "metadata": {},
   "outputs": [
    {
     "name": "stdout",
     "output_type": "stream",
     "text": [
      "Model: \"sequential_3\"\n",
      "_________________________________________________________________\n",
      "Layer (type)                 Output Shape              Param #   \n",
      "=================================================================\n",
      "dense_9 (Dense)              (None, 64)                50240     \n",
      "_________________________________________________________________\n",
      "dropout_7 (Dropout)          (None, 64)                0         \n",
      "_________________________________________________________________\n",
      "dense_10 (Dense)             (None, 64)                4160      \n",
      "_________________________________________________________________\n",
      "dropout_8 (Dropout)          (None, 64)                0         \n",
      "_________________________________________________________________\n",
      "dense_11 (Dense)             (None, 64)                4160      \n",
      "_________________________________________________________________\n",
      "dropout_9 (Dropout)          (None, 64)                0         \n",
      "_________________________________________________________________\n",
      "dense_12 (Dense)             (None, 10)                650       \n",
      "=================================================================\n",
      "Total params: 59,210\n",
      "Trainable params: 59,210\n",
      "Non-trainable params: 0\n",
      "_________________________________________________________________\n"
     ]
    }
   ],
   "source": [
    "modelo.summary()"
   ]
  },
  {
   "cell_type": "code",
   "execution_count": 106,
   "metadata": {},
   "outputs": [],
   "source": [
    "# necessita ter instalado o graphviz\n",
    "from keras.utils.vis_utils import plot_model"
   ]
  },
  {
   "cell_type": "markdown",
   "metadata": {},
   "source": [
    "### Treinar rede"
   ]
  },
  {
   "cell_type": "code",
   "execution_count": 107,
   "metadata": {},
   "outputs": [
    {
     "name": "stdout",
     "output_type": "stream",
     "text": [
      "Train on 60000 samples, validate on 10000 samples\n",
      "Epoch 1/15\n",
      "60000/60000 [==============================] - 4s 64us/step - loss: 0.5780 - accuracy: 0.8234 - val_loss: 0.1975 - val_accuracy: 0.9413\n",
      "Epoch 2/15\n",
      "60000/60000 [==============================] - 4s 61us/step - loss: 0.3101 - accuracy: 0.9120 - val_loss: 0.1715 - val_accuracy: 0.9505\n",
      "Epoch 3/15\n",
      "60000/60000 [==============================] - 4s 62us/step - loss: 0.2617 - accuracy: 0.9262 - val_loss: 0.1378 - val_accuracy: 0.9605\n",
      "Epoch 4/15\n",
      "60000/60000 [==============================] - 4s 61us/step - loss: 0.2327 - accuracy: 0.9340 - val_loss: 0.1295 - val_accuracy: 0.9637\n",
      "Epoch 5/15\n",
      "60000/60000 [==============================] - 4s 64us/step - loss: 0.2189 - accuracy: 0.9388 - val_loss: 0.1254 - val_accuracy: 0.9643\n",
      "Epoch 6/15\n",
      "60000/60000 [==============================] - 4s 62us/step - loss: 0.2035 - accuracy: 0.9427 - val_loss: 0.1124 - val_accuracy: 0.9676\n",
      "Epoch 7/15\n",
      "60000/60000 [==============================] - 4s 62us/step - loss: 0.1931 - accuracy: 0.9456 - val_loss: 0.1121 - val_accuracy: 0.9690\n",
      "Epoch 8/15\n",
      "60000/60000 [==============================] - 4s 61us/step - loss: 0.1826 - accuracy: 0.9481 - val_loss: 0.1115 - val_accuracy: 0.9667\n",
      "Epoch 9/15\n",
      "60000/60000 [==============================] - 4s 61us/step - loss: 0.1783 - accuracy: 0.9492 - val_loss: 0.1110 - val_accuracy: 0.9691\n",
      "Epoch 10/15\n",
      "60000/60000 [==============================] - 4s 61us/step - loss: 0.1731 - accuracy: 0.9499 - val_loss: 0.1089 - val_accuracy: 0.9694\n",
      "Epoch 11/15\n",
      "60000/60000 [==============================] - 4s 63us/step - loss: 0.1665 - accuracy: 0.9521 - val_loss: 0.1155 - val_accuracy: 0.9684\n",
      "Epoch 12/15\n",
      "60000/60000 [==============================] - 4s 61us/step - loss: 0.1625 - accuracy: 0.9537 - val_loss: 0.1047 - val_accuracy: 0.9717\n",
      "Epoch 13/15\n",
      "60000/60000 [==============================] - 4s 62us/step - loss: 0.1586 - accuracy: 0.9552 - val_loss: 0.1099 - val_accuracy: 0.9694\n",
      "Epoch 14/15\n",
      "60000/60000 [==============================] - 4s 61us/step - loss: 0.1543 - accuracy: 0.9557 - val_loss: 0.1082 - val_accuracy: 0.9702\n",
      "Epoch 15/15\n",
      "60000/60000 [==============================] - 4s 61us/step - loss: 0.1520 - accuracy: 0.9563 - val_loss: 0.1062 - val_accuracy: 0.9725\n"
     ]
    }
   ],
   "source": [
    "modelo.compile(optimizer='adam',\n",
    "              loss='categorical_crossentropy',\n",
    "              metrics =['accuracy'])\n",
    "hist = modelo.fit( X_train,\n",
    "                   y_train,\n",
    "                  epochs = 15,\n",
    "                  validation_data=(X_test,y_test))"
   ]
  },
  {
   "cell_type": "markdown",
   "metadata": {},
   "source": [
    "### Gráfico loss"
   ]
  },
  {
   "cell_type": "code",
   "execution_count": 108,
   "metadata": {},
   "outputs": [
    {
     "name": "stdout",
     "output_type": "stream",
     "text": [
      "dict_keys(['val_loss', 'val_accuracy', 'loss', 'accuracy'])\n"
     ]
    },
    {
     "data": {
      "text/plain": [
       "[<matplotlib.lines.Line2D at 0x1f58943c788>]"
      ]
     },
     "execution_count": 108,
     "metadata": {},
     "output_type": "execute_result"
    },
    {
     "data": {
      "image/png": "[encoded data removed]",
      "text/plain": [
       "<Figure size 216x216 with 1 Axes>"
      ]
     },
     "metadata": {
      "needs_background": "light"
     },
     "output_type": "display_data"
    }
   ],
   "source": [
    "print(hist.history.keys())\n",
    "plt.plot(hist.history['val_loss'])"
   ]
  },
  {
   "cell_type": "code",
   "execution_count": 109,
   "metadata": {},
   "outputs": [
    {
     "data": {
      "text/plain": [
       "[<matplotlib.lines.Line2D at 0x1f58a48bc08>]"
      ]
     },
     "execution_count": 109,
     "metadata": {},
     "output_type": "execute_result"
    },
    {
     "data": {
      "image/png": "[encoded data removed]",
      "text/plain": [
       "<Figure size 216x216 with 1 Axes>"
      ]
     },
     "metadata": {
      "needs_background": "light"
     },
     "output_type": "display_data"
    }
   ],
   "source": [
    "plt.plot(hist.history['val_accuracy'])"
   ]
  },
  {
   "cell_type": "markdown",
   "metadata": {},
   "source": [
    "### Gerar matriz dde confusoes"
   ]
  },
  {
   "cell_type": "code",
   "execution_count": 110,
   "metadata": {},
   "outputs": [],
   "source": [
    "previsoes = modelo.predict(X_test)\n",
    "previsoes = (previsoes > 0.5)"
   ]
  },
  {
   "cell_type": "code",
   "execution_count": 111,
   "metadata": {},
   "outputs": [
    {
     "name": "stdout",
     "output_type": "stream",
     "text": [
      "[[ 973    0    0    1    0    1    2    1    2    0]\n",
      " [   4 1117    3    2    0    0    2    2    5    0]\n",
      " [  14    0  993    8    4    0    2    8    3    0]\n",
      " [   9    0    5  984    0    3    0    8    1    0]\n",
      " [   4    0    2    0  951    0    4    2    2   17]\n",
      " [  13    0    0   13    1  855    3    2    3    2]\n",
      " [   9    2    0    0    6    5  933    0    3    0]\n",
      " [   5    2    7    3    0    0    0 1008    0    3]\n",
      " [  24    2    3    6    4    5    3    3  917    7]\n",
      " [  10    4    0   10   14    2    0    5    1  963]]\n"
     ]
    }
   ],
   "source": [
    "y_test_matrix = [np.argmax(t) for t in y_test]\n",
    "y_previsao_matrix = [np.argmax(t) for t in previsoes]\n",
    "confusao = confusion_matrix(y_test_matrix,y_previsao_matrix)\n",
    "print(confusao)"
   ]
  },
  {
   "cell_type": "markdown",
   "metadata": {},
   "source": [
    "# Verificar se acertou o valor para um registro"
   ]
  },
  {
   "cell_type": "code",
   "execution_count": 119,
   "metadata": {},
   "outputs": [
    {
     "name": "stdout",
     "output_type": "stream",
     "text": [
      "[0. 0. 0. 0. 1. 0. 0. 0. 0. 0.]\n",
      "float32\n",
      "[[0.         0.         0.00000122 0.         0.99999714 0.\n",
      "  0.         0.         0.         0.00000162]]\n"
     ]
    }
   ],
   "source": [
    "print(y_train[20])\n",
    "novo = X_train[20]\n",
    "novo = np.expand_dims(novo,axis= 0)\n",
    "pred = modelo.predict(novo)\n",
    "print(pred.dtype)\n",
    "print(pred)"
   ]
  },
  {
   "cell_type": "code",
   "execution_count": 116,
   "metadata": {},
   "outputs": [
    {
     "data": {
      "text/plain": [
       "<matplotlib.image.AxesImage at 0x1f58a5e1608>"
      ]
     },
     "execution_count": 116,
     "metadata": {},
     "output_type": "execute_result"
    },
    {
     "data": {
      "image/png": "[encoded data removed]",
      "text/plain": [
       "<Figure size 216x216 with 1 Axes>"
      ]
     },
     "metadata": {
      "needs_background": "light"
     },
     "output_type": "display_data"
    }
   ],
   "source": [
    "plt.imshow(X1_train[20, :, :],cmap='gray')"
   ]
  },
  {
   "cell_type": "code",
   "execution_count": null,
   "metadata": {},
   "outputs": [],
   "source": []
  }
 ],
 "metadata": {
  "kernelspec": {
   "display_name": "Python 3",
   "language": "python",
   "name": "python3"
  },
  "language_info": {
   "codemirror_mode": {
    "name": "ipython",
    "version": 3
   },
   "file_extension": ".py",
   "mimetype": "text/x-python",
   "name": "python",
   "nbconvert_exporter": "python",
   "pygments_lexer": "ipython3",
   "version": "3.7.6"
  }
 },
 "nbformat": 4,
 "nbformat_minor": 4
}
