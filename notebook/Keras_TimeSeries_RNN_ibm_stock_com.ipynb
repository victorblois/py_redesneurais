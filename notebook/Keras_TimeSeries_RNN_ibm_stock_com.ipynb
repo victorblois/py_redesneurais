{
 "cells": [
  {
   "cell_type": "code",
   "execution_count": 1,
   "metadata": {
    "colab": {},
    "colab_type": "code",
    "id": "fU0Qi60TN2N6"
   },
   "outputs": [],
   "source": [
    "# Baseado no exemplo: https://www.kaggle.com/thebrownviking20/intro-to-recurrent-neural-networks-lstm-gru"
   ]
  },
  {
   "cell_type": "code",
   "execution_count": 22,
   "metadata": {
    "colab": {},
    "colab_type": "code",
    "id": "w_-ug3lgN2OC",
    "outputId": "0f093dd1-82e3-407c-f802-ea9f920ec4fa"
   },
   "outputs": [],
   "source": [
    "%matplotlib inline\n",
    "\n",
    "import pandas as pd\n",
    "import numpy as np\n",
    "import matplotlib.pyplot as plt \n",
    "\n",
    "from sklearn.preprocessing import MinMaxScaler\n",
    "from keras.layers import SimpleRNN\n",
    "from keras.models import Sequential\n",
    "from numpy.random import seed\n",
    "#from tensorflow import set_random_seed"
   ]
  },
  {
   "cell_type": "code",
   "execution_count": 23,
   "metadata": {
    "colab": {},
    "colab_type": "code",
    "id": "guShsCZpN2OJ"
   },
   "outputs": [],
   "source": [
    "seed(42)\n",
    "#set_random_seed(42)\n",
    "\n",
    "plt.rcParams['figure.figsize'] = 16,4"
   ]
  },
  {
   "cell_type": "code",
   "execution_count": 24,
   "metadata": {
    "colab": {},
    "colab_type": "code",
    "id": "iiEq6m2lN2OM"
   },
   "outputs": [],
   "source": [
    "SPLIT_DATE = '2015/01/01'\n",
    "WINDOW_SIZE = 30"
   ]
  },
  {
   "cell_type": "markdown",
   "metadata": {},
   "source": [
    "# Importar Bases"
   ]
  },
  {
   "cell_type": "code",
   "execution_count": 25,
   "metadata": {},
   "outputs": [],
   "source": [
    "import os.path\n",
    "def path_base(base_name,folder):\n",
    "    current_dir = os.path.abspath(os.path.join(os.getcwd()))\n",
    "    print(current_dir)\n",
    "    data_dir = current_dir.replace('notebook',folder)\n",
    "    print(data_dir)\n",
    "    data_base = data_dir + '\\\\' + base_name\n",
    "    print(data_base)\n",
    "    return data_base"
   ]
  },
  {
   "cell_type": "code",
   "execution_count": 26,
   "metadata": {
    "colab": {},
    "colab_type": "code",
    "id": "iKFiNtmJN2OP",
    "outputId": "b0ee7046-83ce-4d46-9813-f2b2ce14bae7"
   },
   "outputs": [
    {
     "name": "stdout",
     "output_type": "stream",
     "text": [
      "C:\\MyGit\\py_redesneurais\\notebook\n",
      "C:\\MyGit\\py_redesneurais\\data\n",
      "C:\\MyGit\\py_redesneurais\\data\\db_IBM_stocks.csv\n"
     ]
    },
    {
     "data": {
      "text/html": [
       "<div>\n",
       "<style scoped>\n",
       "    .dataframe tbody tr th:only-of-type {\n",
       "        vertical-align: middle;\n",
       "    }\n",
       "\n",
       "    .dataframe tbody tr th {\n",
       "        vertical-align: top;\n",
       "    }\n",
       "\n",
       "    .dataframe thead th {\n",
       "        text-align: right;\n",
       "    }\n",
       "</style>\n",
       "<table border=\"1\" class=\"dataframe\">\n",
       "  <thead>\n",
       "    <tr style=\"text-align: right;\">\n",
       "      <th></th>\n",
       "      <th>Open</th>\n",
       "      <th>High</th>\n",
       "      <th>Low</th>\n",
       "      <th>Close</th>\n",
       "      <th>Volume</th>\n",
       "      <th>Name</th>\n",
       "    </tr>\n",
       "    <tr>\n",
       "      <th>Date</th>\n",
       "      <th></th>\n",
       "      <th></th>\n",
       "      <th></th>\n",
       "      <th></th>\n",
       "      <th></th>\n",
       "      <th></th>\n",
       "    </tr>\n",
       "  </thead>\n",
       "  <tbody>\n",
       "    <tr>\n",
       "      <th>2006-01-03</th>\n",
       "      <td>82.45</td>\n",
       "      <td>82.55</td>\n",
       "      <td>80.81</td>\n",
       "      <td>82.06</td>\n",
       "      <td>11715200</td>\n",
       "      <td>IBM</td>\n",
       "    </tr>\n",
       "    <tr>\n",
       "      <th>2006-01-04</th>\n",
       "      <td>82.20</td>\n",
       "      <td>82.50</td>\n",
       "      <td>81.33</td>\n",
       "      <td>81.95</td>\n",
       "      <td>9840600</td>\n",
       "      <td>IBM</td>\n",
       "    </tr>\n",
       "    <tr>\n",
       "      <th>2006-01-05</th>\n",
       "      <td>81.40</td>\n",
       "      <td>82.90</td>\n",
       "      <td>81.00</td>\n",
       "      <td>82.50</td>\n",
       "      <td>7213500</td>\n",
       "      <td>IBM</td>\n",
       "    </tr>\n",
       "    <tr>\n",
       "      <th>2006-01-06</th>\n",
       "      <td>83.95</td>\n",
       "      <td>85.03</td>\n",
       "      <td>83.41</td>\n",
       "      <td>84.95</td>\n",
       "      <td>8197400</td>\n",
       "      <td>IBM</td>\n",
       "    </tr>\n",
       "    <tr>\n",
       "      <th>2006-01-09</th>\n",
       "      <td>84.10</td>\n",
       "      <td>84.25</td>\n",
       "      <td>83.38</td>\n",
       "      <td>83.73</td>\n",
       "      <td>6858200</td>\n",
       "      <td>IBM</td>\n",
       "    </tr>\n",
       "  </tbody>\n",
       "</table>\n",
       "</div>"
      ],
      "text/plain": [
       "             Open   High    Low  Close    Volume Name\n",
       "Date                                                 \n",
       "2006-01-03  82.45  82.55  80.81  82.06  11715200  IBM\n",
       "2006-01-04  82.20  82.50  81.33  81.95   9840600  IBM\n",
       "2006-01-05  81.40  82.90  81.00  82.50   7213500  IBM\n",
       "2006-01-06  83.95  85.03  83.41  84.95   8197400  IBM\n",
       "2006-01-09  84.10  84.25  83.38  83.73   6858200  IBM"
      ]
     },
     "execution_count": 26,
     "metadata": {},
     "output_type": "execute_result"
    }
   ],
   "source": [
    "df = pd.read_csv(path_base('db_IBM_stocks.csv','data'),index_col='Date')\n",
    "df.head(5)"
   ]
  },
  {
   "cell_type": "code",
   "execution_count": 27,
   "metadata": {
    "colab": {},
    "colab_type": "code",
    "id": "r1Bg5VyyN2OU",
    "outputId": "c158d083-2500-4315-df69-4b3e4fdef798"
   },
   "outputs": [
    {
     "data": {
      "text/html": [
       "<div>\n",
       "<style scoped>\n",
       "    .dataframe tbody tr th:only-of-type {\n",
       "        vertical-align: middle;\n",
       "    }\n",
       "\n",
       "    .dataframe tbody tr th {\n",
       "        vertical-align: top;\n",
       "    }\n",
       "\n",
       "    .dataframe thead th {\n",
       "        text-align: right;\n",
       "    }\n",
       "</style>\n",
       "<table border=\"1\" class=\"dataframe\">\n",
       "  <thead>\n",
       "    <tr style=\"text-align: right;\">\n",
       "      <th></th>\n",
       "      <th>Average</th>\n",
       "    </tr>\n",
       "    <tr>\n",
       "      <th>Date</th>\n",
       "      <th></th>\n",
       "    </tr>\n",
       "  </thead>\n",
       "  <tbody>\n",
       "    <tr>\n",
       "      <th>2006-01-03</th>\n",
       "      <td>81.680</td>\n",
       "    </tr>\n",
       "    <tr>\n",
       "      <th>2006-01-04</th>\n",
       "      <td>81.915</td>\n",
       "    </tr>\n",
       "    <tr>\n",
       "      <th>2006-01-05</th>\n",
       "      <td>81.950</td>\n",
       "    </tr>\n",
       "    <tr>\n",
       "      <th>2006-01-06</th>\n",
       "      <td>84.220</td>\n",
       "    </tr>\n",
       "    <tr>\n",
       "      <th>2006-01-09</th>\n",
       "      <td>83.815</td>\n",
       "    </tr>\n",
       "  </tbody>\n",
       "</table>\n",
       "</div>"
      ],
      "text/plain": [
       "            Average\n",
       "Date               \n",
       "2006-01-03   81.680\n",
       "2006-01-04   81.915\n",
       "2006-01-05   81.950\n",
       "2006-01-06   84.220\n",
       "2006-01-09   83.815"
      ]
     },
     "execution_count": 27,
     "metadata": {},
     "output_type": "execute_result"
    }
   ],
   "source": [
    "df['Average'] = (df['High'] + df['Low'])/2\n",
    "df = df[['Average']]\n",
    "\n",
    "df.head(5)"
   ]
  },
  {
   "cell_type": "code",
   "execution_count": 28,
   "metadata": {
    "colab": {},
    "colab_type": "code",
    "id": "xJnQywVYN2OY",
    "outputId": "1144c7b6-ad64-4077-caf7-d2250cb56a78",
    "scrolled": true
   },
   "outputs": [
    {
     "data": {
      "image/png": "[encoded data removed]",
      "text/plain": [
       "<Figure size 1152x288 with 1 Axes>"
      ]
     },
     "metadata": {
      "needs_background": "light"
     },
     "output_type": "display_data"
    }
   ],
   "source": [
    "df.plot(legend=True)\n",
    "plt.title('IBM stock price')\n",
    "plt.show()"
   ]
  },
  {
   "cell_type": "code",
   "execution_count": 9,
   "metadata": {
    "colab": {},
    "colab_type": "code",
    "id": "sjDnF5pSN2Oc"
   },
   "outputs": [
    {
     "data": {
      "text/plain": [
       "'2015/01/01'"
      ]
     },
     "execution_count": 9,
     "metadata": {},
     "output_type": "execute_result"
    }
   ],
   "source": [
    "df_train = df[df.index < SPLIT_DATE].copy()\n",
    "df_test = df[df.index >= SPLIT_DATE].copy()\n",
    "SPLIT_DATE"
   ]
  },
  {
   "cell_type": "code",
   "execution_count": 10,
   "metadata": {
    "colab": {},
    "colab_type": "code",
    "id": "nKgyiI4WN2Of"
   },
   "outputs": [],
   "source": [
    "#scaler = MinMaxScaler()\n",
    "#df_train['Average'] = scaler.fit_transform(df_train['Average'].values.reshape(-1, 1))\n",
    "#df_test['Average'] = scaler.transform(df_test['Average'].values.reshape(-1, 1))"
   ]
  },
  {
   "cell_type": "code",
   "execution_count": 11,
   "metadata": {
    "colab": {},
    "colab_type": "code",
    "id": "Q_PlY59aN2Oi"
   },
   "outputs": [],
   "source": [
    " def gen_rnn_inputs(df, window_size):\n",
    "    X, y = [], []\n",
    "    averages = df['Average'].values\n",
    "    \n",
    "    for i in range(window_size, len(df)):\n",
    "        X.append(averages[i-window_size: i])\n",
    "        y.append(averages[i])\n",
    "        \n",
    "    return np.array(X), np.array(y)"
   ]
  },
  {
   "cell_type": "code",
   "execution_count": 12,
   "metadata": {
    "colab": {},
    "colab_type": "code",
    "id": "Mc_oajHkN2Ol"
   },
   "outputs": [],
   "source": [
    "X_train, y_train = gen_rnn_inputs(df_train, WINDOW_SIZE)\n",
    "X_test, y_test = gen_rnn_inputs(df_test, WINDOW_SIZE)"
   ]
  },
  {
   "cell_type": "code",
   "execution_count": 13,
   "metadata": {
    "colab": {},
    "colab_type": "code",
    "id": "XJkXo_C3N2Oo",
    "outputId": "46e227cd-ab6f-4170-db1a-03f4d9e97355"
   },
   "outputs": [
    {
     "name": "stdout",
     "output_type": "stream",
     "text": [
      "Model: \"sequential_1\"\n",
      "_________________________________________________________________\n",
      "Layer (type)                 Output Shape              Param #   \n",
      "=================================================================\n",
      "simple_rnn_1 (SimpleRNN)     (None, 1)                 3         \n",
      "=================================================================\n",
      "Total params: 3\n",
      "Trainable params: 3\n",
      "Non-trainable params: 0\n",
      "_________________________________________________________________\n"
     ]
    }
   ],
   "source": [
    "model = Sequential()\n",
    "model.add(SimpleRNN(1, activation='relu', input_shape=(WINDOW_SIZE, 1)))\n",
    "model.compile(optimizer='adam',loss='mean_squared_error')\n",
    "model.summary()"
   ]
  },
  {
   "cell_type": "code",
   "execution_count": 18,
   "metadata": {
    "colab": {},
    "colab_type": "code",
    "id": "hPhbIB8EN2Os",
    "outputId": "283adab5-f7fc-460c-a245-dd960989265a"
   },
   "outputs": [
    {
     "name": "stdout",
     "output_type": "stream",
     "text": [
      "Epoch 1/100\n",
      " - 1s - loss: 6.8441\n",
      "Epoch 2/100\n",
      " - 1s - loss: 6.7593\n",
      "Epoch 3/100\n",
      " - 1s - loss: 6.8252\n",
      "Epoch 4/100\n",
      " - 1s - loss: 6.7220\n",
      "Epoch 5/100\n",
      " - 1s - loss: 6.7657\n",
      "Epoch 6/100\n",
      " - 1s - loss: 6.6487\n",
      "Epoch 7/100\n",
      " - 1s - loss: 6.7274\n",
      "Epoch 8/100\n",
      " - 1s - loss: 6.6131\n",
      "Epoch 9/100\n",
      " - 1s - loss: 6.6103\n",
      "Epoch 10/100\n",
      " - 1s - loss: 6.4847\n",
      "Epoch 11/100\n",
      " - 1s - loss: 6.4726\n",
      "Epoch 12/100\n",
      " - 1s - loss: 6.3977\n",
      "Epoch 13/100\n",
      " - 1s - loss: 6.3724\n",
      "Epoch 14/100\n",
      " - 1s - loss: 6.3794\n",
      "Epoch 15/100\n",
      " - 1s - loss: 6.2895\n",
      "Epoch 16/100\n",
      " - 1s - loss: 6.2707\n",
      "Epoch 17/100\n",
      " - 1s - loss: 6.2324\n",
      "Epoch 18/100\n",
      " - 1s - loss: 6.2568\n",
      "Epoch 19/100\n",
      " - 1s - loss: 6.1739\n",
      "Epoch 20/100\n",
      " - 1s - loss: 6.2854\n",
      "Epoch 21/100\n",
      " - 1s - loss: 6.0748\n",
      "Epoch 22/100\n",
      " - 1s - loss: 6.1860\n",
      "Epoch 23/100\n",
      " - 1s - loss: 6.1344\n",
      "Epoch 24/100\n",
      " - 1s - loss: 6.0240\n",
      "Epoch 25/100\n",
      " - 1s - loss: 6.0295\n",
      "Epoch 26/100\n",
      " - 1s - loss: 6.1355\n",
      "Epoch 27/100\n",
      " - 1s - loss: 6.0896\n",
      "Epoch 28/100\n",
      " - 1s - loss: 5.9423\n",
      "Epoch 29/100\n",
      " - 1s - loss: 5.7508\n",
      "Epoch 30/100\n",
      " - 1s - loss: 5.8616\n",
      "Epoch 31/100\n",
      " - 1s - loss: 5.7715\n",
      "Epoch 32/100\n",
      " - 1s - loss: 5.8289\n",
      "Epoch 33/100\n",
      " - 1s - loss: 5.7958\n",
      "Epoch 34/100\n",
      " - 1s - loss: 6.0228\n",
      "Epoch 35/100\n",
      " - 1s - loss: 5.6823\n",
      "Epoch 36/100\n",
      " - 1s - loss: 5.6478\n",
      "Epoch 37/100\n",
      " - 1s - loss: 5.6235\n",
      "Epoch 38/100\n",
      " - 1s - loss: 5.7094\n",
      "Epoch 39/100\n",
      " - 1s - loss: 5.6143\n",
      "Epoch 40/100\n",
      " - 1s - loss: 5.4812\n",
      "Epoch 41/100\n",
      " - 1s - loss: 5.4516\n",
      "Epoch 42/100\n",
      " - 1s - loss: 5.4073\n",
      "Epoch 43/100\n",
      " - 1s - loss: 5.6538\n",
      "Epoch 44/100\n",
      " - 1s - loss: 5.2668\n",
      "Epoch 45/100\n",
      " - 1s - loss: 5.4149\n",
      "Epoch 46/100\n",
      " - 1s - loss: 5.4819\n",
      "Epoch 47/100\n",
      " - 1s - loss: 5.3540\n",
      "Epoch 48/100\n",
      " - 1s - loss: 5.4242\n",
      "Epoch 49/100\n",
      " - 1s - loss: 5.3856\n",
      "Epoch 50/100\n",
      " - 1s - loss: 5.2476\n",
      "Epoch 51/100\n",
      " - 1s - loss: 5.2021\n",
      "Epoch 52/100\n",
      " - 1s - loss: 5.3566\n",
      "Epoch 53/100\n",
      " - 1s - loss: 5.3262\n",
      "Epoch 54/100\n",
      " - 1s - loss: 5.1768\n",
      "Epoch 55/100\n",
      " - 1s - loss: 5.0959\n",
      "Epoch 56/100\n",
      " - 1s - loss: 5.0769\n",
      "Epoch 57/100\n",
      " - 1s - loss: 5.1131\n",
      "Epoch 58/100\n",
      " - 1s - loss: 5.0764\n",
      "Epoch 59/100\n",
      " - 1s - loss: 5.0429\n",
      "Epoch 60/100\n",
      " - 1s - loss: 4.9393\n",
      "Epoch 61/100\n",
      " - 1s - loss: 4.9686\n",
      "Epoch 62/100\n",
      " - 1s - loss: 4.9390\n",
      "Epoch 63/100\n",
      " - 1s - loss: 4.8878\n",
      "Epoch 64/100\n",
      " - 1s - loss: 4.9245\n",
      "Epoch 65/100\n",
      " - 1s - loss: 4.9974\n",
      "Epoch 66/100\n",
      " - 1s - loss: 4.8988\n",
      "Epoch 67/100\n",
      " - 1s - loss: 4.8300\n",
      "Epoch 68/100\n",
      " - 1s - loss: 4.8462\n",
      "Epoch 69/100\n",
      " - 1s - loss: 4.8486\n",
      "Epoch 70/100\n",
      " - 1s - loss: 4.8601\n",
      "Epoch 71/100\n",
      " - 1s - loss: 4.8099\n",
      "Epoch 72/100\n",
      " - 1s - loss: 4.8572\n",
      "Epoch 73/100\n",
      " - 1s - loss: 4.7431\n",
      "Epoch 74/100\n",
      " - 1s - loss: 4.7051\n",
      "Epoch 75/100\n",
      " - 1s - loss: 4.6698\n",
      "Epoch 76/100\n",
      " - 1s - loss: 4.7090\n",
      "Epoch 77/100\n",
      " - 1s - loss: 4.5919\n",
      "Epoch 78/100\n",
      " - 1s - loss: 4.6881\n",
      "Epoch 79/100\n",
      " - 1s - loss: 4.7348\n",
      "Epoch 80/100\n",
      " - 1s - loss: 4.5476\n",
      "Epoch 81/100\n",
      " - 1s - loss: 4.5425\n",
      "Epoch 82/100\n",
      " - 1s - loss: 4.6680\n",
      "Epoch 83/100\n",
      " - 1s - loss: 4.4791\n",
      "Epoch 84/100\n",
      " - 1s - loss: 4.4445\n",
      "Epoch 85/100\n",
      " - 1s - loss: 4.5070\n",
      "Epoch 86/100\n",
      " - 1s - loss: 4.4947\n",
      "Epoch 87/100\n",
      " - 1s - loss: 4.5205\n",
      "Epoch 88/100\n",
      " - 1s - loss: 4.5887\n",
      "Epoch 89/100\n",
      " - 1s - loss: 4.4241\n",
      "Epoch 90/100\n",
      " - 1s - loss: 4.3634\n",
      "Epoch 91/100\n",
      " - 1s - loss: 4.4930\n",
      "Epoch 92/100\n",
      " - 1s - loss: 4.3907\n",
      "Epoch 93/100\n",
      " - 1s - loss: 4.3088\n",
      "Epoch 94/100\n",
      " - 1s - loss: 4.4196\n",
      "Epoch 95/100\n",
      " - 1s - loss: 4.3425\n",
      "Epoch 96/100\n",
      " - 1s - loss: 4.2671\n",
      "Epoch 97/100\n",
      " - 1s - loss: 4.3236\n",
      "Epoch 98/100\n",
      " - 1s - loss: 4.3264\n",
      "Epoch 99/100\n",
      " - 1s - loss: 4.3707\n",
      "Epoch 100/100\n",
      " - 1s - loss: 4.2848\n"
     ]
    },
    {
     "data": {
      "text/plain": [
       "<keras.callbacks.callbacks.History at 0x25b4caa5788>"
      ]
     },
     "execution_count": 18,
     "metadata": {},
     "output_type": "execute_result"
    }
   ],
   "source": [
    "model.fit(np.expand_dims(X_train, axis=-1), y_train, epochs=100, batch_size=8, verbose=2)"
   ]
  },
  {
   "cell_type": "code",
   "execution_count": 19,
   "metadata": {
    "colab": {},
    "colab_type": "code",
    "id": "LPurNWDoN2Ox"
   },
   "outputs": [],
   "source": [
    "y_pred = model.predict(np.expand_dims(X_test, axis=-1))"
   ]
  },
  {
   "cell_type": "code",
   "execution_count": 20,
   "metadata": {
    "colab": {},
    "colab_type": "code",
    "id": "jFLo7yj-N2O0"
   },
   "outputs": [],
   "source": [
    "df_test_preds = df_test.copy()\n",
    "df_test_preds['Average'] = np.zeros(WINDOW_SIZE).tolist() + y_test.reshape(-1,1).squeeze().tolist()\n",
    "df_test_preds['Pred'] = np.zeros(WINDOW_SIZE).tolist() + y_pred.reshape(-1,1).squeeze().tolist()"
   ]
  },
  {
   "cell_type": "code",
   "execution_count": 21,
   "metadata": {
    "colab": {},
    "colab_type": "code",
    "id": "7VtmKg-fN2O3",
    "outputId": "36138205-174f-42a1-848d-b015058767e9"
   },
   "outputs": [
    {
     "data": {
      "text/plain": [
       "<matplotlib.axes._subplots.AxesSubplot at 0x25b4cdff888>"
      ]
     },
     "execution_count": 21,
     "metadata": {},
     "output_type": "execute_result"
    },
    {
     "data": {
      "image/png": "[encoded data removed]",
      "text/plain": [
       "<Figure size 1152x288 with 1 Axes>"
      ]
     },
     "metadata": {
      "needs_background": "light"
     },
     "output_type": "display_data"
    }
   ],
   "source": [
    "df_test_preds.plot(legend=True)"
   ]
  },
  {
   "cell_type": "code",
   "execution_count": null,
   "metadata": {},
   "outputs": [],
   "source": []
  }
 ],
 "metadata": {
  "colab": {
   "name": "keras_rnn_ibm_stock.ipynb",
   "provenance": [],
   "version": "0.3.2"
  },
  "kernelspec": {
   "display_name": "Python 3",
   "language": "python",
   "name": "python3"
  },
  "language_info": {
   "codemirror_mode": {
    "name": "ipython",
    "version": 3
   },
   "file_extension": ".py",
   "mimetype": "text/x-python",
   "name": "python",
   "nbconvert_exporter": "python",
   "pygments_lexer": "ipython3",
   "version": "3.7.6"
  }
 },
 "nbformat": 4,
 "nbformat_minor": 1
}
