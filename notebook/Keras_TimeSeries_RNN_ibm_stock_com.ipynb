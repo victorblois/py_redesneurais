{
 "cells": [
  {
   "cell_type": "code",
   "execution_count": 29,
   "metadata": {
    "colab": {},
    "colab_type": "code",
    "id": "fU0Qi60TN2N6"
   },
   "outputs": [],
   "source": [
    "# Baseado no exemplo: https://www.kaggle.com/thebrownviking20/intro-to-recurrent-neural-networks-lstm-gru"
   ]
  },
  {
   "cell_type": "code",
   "execution_count": 30,
   "metadata": {
    "colab": {},
    "colab_type": "code",
    "id": "w_-ug3lgN2OC",
    "outputId": "0f093dd1-82e3-407c-f802-ea9f920ec4fa"
   },
   "outputs": [],
   "source": [
    "%matplotlib inline\n",
    "\n",
    "import pandas as pd\n",
    "import numpy as np\n",
    "import matplotlib.pyplot as plt \n",
    "\n",
    "from sklearn.preprocessing import MinMaxScaler\n",
    "from keras.layers import SimpleRNN\n",
    "from keras.models import Sequential\n",
    "from numpy.random import seed\n",
    "#from tensorflow import set_random_seed"
   ]
  },
  {
   "cell_type": "code",
   "execution_count": 31,
   "metadata": {
    "colab": {},
    "colab_type": "code",
    "id": "guShsCZpN2OJ"
   },
   "outputs": [],
   "source": [
    "seed(42)\n",
    "#set_random_seed(42)\n",
    "\n",
    "plt.rcParams['figure.figsize'] = 16,4"
   ]
  },
  {
   "cell_type": "code",
   "execution_count": 32,
   "metadata": {
    "colab": {},
    "colab_type": "code",
    "id": "iiEq6m2lN2OM"
   },
   "outputs": [],
   "source": [
    "SPLIT_DATE = '2015/01/01'\n",
    "WINDOW_SIZE = 30"
   ]
  },
  {
   "cell_type": "markdown",
   "metadata": {},
   "source": [
    "# Importar Bases"
   ]
  },
  {
   "cell_type": "code",
   "execution_count": 33,
   "metadata": {},
   "outputs": [],
   "source": [
    "import os.path\n",
    "def path_base(base_name,folder):\n",
    "    current_dir = os.path.abspath(os.path.join(os.getcwd()))\n",
    "    print(current_dir)\n",
    "    data_dir = current_dir.replace('notebook',folder)\n",
    "    print(data_dir)\n",
    "    data_base = data_dir + '\\\\' + base_name\n",
    "    print(data_base)\n",
    "    return data_base"
   ]
  },
  {
   "cell_type": "code",
   "execution_count": 34,
   "metadata": {
    "colab": {},
    "colab_type": "code",
    "id": "iKFiNtmJN2OP",
    "outputId": "b0ee7046-83ce-4d46-9813-f2b2ce14bae7"
   },
   "outputs": [
    {
     "name": "stdout",
     "output_type": "stream",
     "text": [
      "C:\\MyGit\\py_redesneurais\\notebook\n",
      "C:\\MyGit\\py_redesneurais\\data\n",
      "C:\\MyGit\\py_redesneurais\\data\\db_IBM_stocks.csv\n"
     ]
    },
    {
     "data": {
      "text/html": [
       "<div>\n",
       "<style scoped>\n",
       "    .dataframe tbody tr th:only-of-type {\n",
       "        vertical-align: middle;\n",
       "    }\n",
       "\n",
       "    .dataframe tbody tr th {\n",
       "        vertical-align: top;\n",
       "    }\n",
       "\n",
       "    .dataframe thead th {\n",
       "        text-align: right;\n",
       "    }\n",
       "</style>\n",
       "<table border=\"1\" class=\"dataframe\">\n",
       "  <thead>\n",
       "    <tr style=\"text-align: right;\">\n",
       "      <th></th>\n",
       "      <th>Open</th>\n",
       "      <th>High</th>\n",
       "      <th>Low</th>\n",
       "      <th>Close</th>\n",
       "      <th>Volume</th>\n",
       "      <th>Name</th>\n",
       "    </tr>\n",
       "    <tr>\n",
       "      <th>Date</th>\n",
       "      <th></th>\n",
       "      <th></th>\n",
       "      <th></th>\n",
       "      <th></th>\n",
       "      <th></th>\n",
       "      <th></th>\n",
       "    </tr>\n",
       "  </thead>\n",
       "  <tbody>\n",
       "    <tr>\n",
       "      <th>2006-01-03</th>\n",
       "      <td>82.45</td>\n",
       "      <td>82.55</td>\n",
       "      <td>80.81</td>\n",
       "      <td>82.06</td>\n",
       "      <td>11715200</td>\n",
       "      <td>IBM</td>\n",
       "    </tr>\n",
       "    <tr>\n",
       "      <th>2006-01-04</th>\n",
       "      <td>82.20</td>\n",
       "      <td>82.50</td>\n",
       "      <td>81.33</td>\n",
       "      <td>81.95</td>\n",
       "      <td>9840600</td>\n",
       "      <td>IBM</td>\n",
       "    </tr>\n",
       "    <tr>\n",
       "      <th>2006-01-05</th>\n",
       "      <td>81.40</td>\n",
       "      <td>82.90</td>\n",
       "      <td>81.00</td>\n",
       "      <td>82.50</td>\n",
       "      <td>7213500</td>\n",
       "      <td>IBM</td>\n",
       "    </tr>\n",
       "    <tr>\n",
       "      <th>2006-01-06</th>\n",
       "      <td>83.95</td>\n",
       "      <td>85.03</td>\n",
       "      <td>83.41</td>\n",
       "      <td>84.95</td>\n",
       "      <td>8197400</td>\n",
       "      <td>IBM</td>\n",
       "    </tr>\n",
       "    <tr>\n",
       "      <th>2006-01-09</th>\n",
       "      <td>84.10</td>\n",
       "      <td>84.25</td>\n",
       "      <td>83.38</td>\n",
       "      <td>83.73</td>\n",
       "      <td>6858200</td>\n",
       "      <td>IBM</td>\n",
       "    </tr>\n",
       "  </tbody>\n",
       "</table>\n",
       "</div>"
      ],
      "text/plain": [
       "             Open   High    Low  Close    Volume Name\n",
       "Date                                                 \n",
       "2006-01-03  82.45  82.55  80.81  82.06  11715200  IBM\n",
       "2006-01-04  82.20  82.50  81.33  81.95   9840600  IBM\n",
       "2006-01-05  81.40  82.90  81.00  82.50   7213500  IBM\n",
       "2006-01-06  83.95  85.03  83.41  84.95   8197400  IBM\n",
       "2006-01-09  84.10  84.25  83.38  83.73   6858200  IBM"
      ]
     },
     "execution_count": 34,
     "metadata": {},
     "output_type": "execute_result"
    }
   ],
   "source": [
    "df = pd.read_csv(path_base('db_IBM_stocks.csv','data'),index_col='Date')\n",
    "df.head(5)"
   ]
  },
  {
   "cell_type": "code",
   "execution_count": 35,
   "metadata": {
    "colab": {},
    "colab_type": "code",
    "id": "r1Bg5VyyN2OU",
    "outputId": "c158d083-2500-4315-df69-4b3e4fdef798"
   },
   "outputs": [
    {
     "data": {
      "text/html": [
       "<div>\n",
       "<style scoped>\n",
       "    .dataframe tbody tr th:only-of-type {\n",
       "        vertical-align: middle;\n",
       "    }\n",
       "\n",
       "    .dataframe tbody tr th {\n",
       "        vertical-align: top;\n",
       "    }\n",
       "\n",
       "    .dataframe thead th {\n",
       "        text-align: right;\n",
       "    }\n",
       "</style>\n",
       "<table border=\"1\" class=\"dataframe\">\n",
       "  <thead>\n",
       "    <tr style=\"text-align: right;\">\n",
       "      <th></th>\n",
       "      <th>Average</th>\n",
       "    </tr>\n",
       "    <tr>\n",
       "      <th>Date</th>\n",
       "      <th></th>\n",
       "    </tr>\n",
       "  </thead>\n",
       "  <tbody>\n",
       "    <tr>\n",
       "      <th>2006-01-03</th>\n",
       "      <td>81.680</td>\n",
       "    </tr>\n",
       "    <tr>\n",
       "      <th>2006-01-04</th>\n",
       "      <td>81.915</td>\n",
       "    </tr>\n",
       "    <tr>\n",
       "      <th>2006-01-05</th>\n",
       "      <td>81.950</td>\n",
       "    </tr>\n",
       "    <tr>\n",
       "      <th>2006-01-06</th>\n",
       "      <td>84.220</td>\n",
       "    </tr>\n",
       "    <tr>\n",
       "      <th>2006-01-09</th>\n",
       "      <td>83.815</td>\n",
       "    </tr>\n",
       "  </tbody>\n",
       "</table>\n",
       "</div>"
      ],
      "text/plain": [
       "            Average\n",
       "Date               \n",
       "2006-01-03   81.680\n",
       "2006-01-04   81.915\n",
       "2006-01-05   81.950\n",
       "2006-01-06   84.220\n",
       "2006-01-09   83.815"
      ]
     },
     "execution_count": 35,
     "metadata": {},
     "output_type": "execute_result"
    }
   ],
   "source": [
    "df['Average'] = (df['High'] + df['Low'])/2\n",
    "df = df[['Average']]\n",
    "\n",
    "df.head(5)"
   ]
  },
  {
   "cell_type": "code",
   "execution_count": 36,
   "metadata": {
    "colab": {},
    "colab_type": "code",
    "id": "xJnQywVYN2OY",
    "outputId": "1144c7b6-ad64-4077-caf7-d2250cb56a78",
    "scrolled": true
   },
   "outputs": [
    {
     "data": {
      "image/png": "[encoded data removed]",
      "text/plain": [
       "<Figure size 1152x288 with 1 Axes>"
      ]
     },
     "metadata": {
      "needs_background": "light"
     },
     "output_type": "display_data"
    }
   ],
   "source": [
    "df.plot(legend=True)\n",
    "plt.title('IBM stock price')\n",
    "plt.show()"
   ]
  },
  {
   "cell_type": "code",
   "execution_count": 37,
   "metadata": {
    "colab": {},
    "colab_type": "code",
    "id": "sjDnF5pSN2Oc"
   },
   "outputs": [
    {
     "data": {
      "text/plain": [
       "'2015/01/01'"
      ]
     },
     "execution_count": 37,
     "metadata": {},
     "output_type": "execute_result"
    }
   ],
   "source": [
    "df_train = df[df.index < SPLIT_DATE].copy()\n",
    "df_test = df[df.index >= SPLIT_DATE].copy()\n",
    "SPLIT_DATE"
   ]
  },
  {
   "cell_type": "code",
   "execution_count": 38,
   "metadata": {
    "colab": {},
    "colab_type": "code",
    "id": "nKgyiI4WN2Of"
   },
   "outputs": [],
   "source": [
    "#scaler = MinMaxScaler()\n",
    "#df_train['Average'] = scaler.fit_transform(df_train['Average'].values.reshape(-1, 1))\n",
    "#df_test['Average'] = scaler.transform(df_test['Average'].values.reshape(-1, 1))"
   ]
  },
  {
   "cell_type": "code",
   "execution_count": 39,
   "metadata": {
    "colab": {},
    "colab_type": "code",
    "id": "Q_PlY59aN2Oi"
   },
   "outputs": [],
   "source": [
    " def gen_rnn_inputs(df, window_size):\n",
    "    X, y = [], []\n",
    "    averages = df['Average'].values\n",
    "    \n",
    "    for i in range(window_size, len(df)):\n",
    "        X.append(averages[i-window_size: i])\n",
    "        y.append(averages[i])\n",
    "        \n",
    "    return np.array(X), np.array(y)"
   ]
  },
  {
   "cell_type": "code",
   "execution_count": 47,
   "metadata": {
    "colab": {},
    "colab_type": "code",
    "id": "Mc_oajHkN2Ol"
   },
   "outputs": [],
   "source": [
    "X_train, y_train = gen_rnn_inputs(df_train, WINDOW_SIZE)\n",
    "X_test, y_test = gen_rnn_inputs(df_test, WINDOW_SIZE)"
   ]
  },
  {
   "cell_type": "code",
   "execution_count": 52,
   "metadata": {},
   "outputs": [
    {
     "data": {
      "text/html": [
       "<div>\n",
       "<style scoped>\n",
       "    .dataframe tbody tr th:only-of-type {\n",
       "        vertical-align: middle;\n",
       "    }\n",
       "\n",
       "    .dataframe tbody tr th {\n",
       "        vertical-align: top;\n",
       "    }\n",
       "\n",
       "    .dataframe thead th {\n",
       "        text-align: right;\n",
       "    }\n",
       "</style>\n",
       "<table border=\"1\" class=\"dataframe\">\n",
       "  <thead>\n",
       "    <tr style=\"text-align: right;\">\n",
       "      <th></th>\n",
       "      <th>Average</th>\n",
       "    </tr>\n",
       "    <tr>\n",
       "      <th>Date</th>\n",
       "      <th></th>\n",
       "    </tr>\n",
       "  </thead>\n",
       "  <tbody>\n",
       "    <tr>\n",
       "      <th>2016-01-04</th>\n",
       "      <td>135.105</td>\n",
       "    </tr>\n",
       "    <tr>\n",
       "      <th>2016-01-05</th>\n",
       "      <td>135.870</td>\n",
       "    </tr>\n",
       "    <tr>\n",
       "      <th>2016-01-06</th>\n",
       "      <td>134.600</td>\n",
       "    </tr>\n",
       "    <tr>\n",
       "      <th>2016-01-07</th>\n",
       "      <td>133.725</td>\n",
       "    </tr>\n",
       "    <tr>\n",
       "      <th>2016-01-08</th>\n",
       "      <td>132.570</td>\n",
       "    </tr>\n",
       "    <tr>\n",
       "      <th>...</th>\n",
       "      <td>...</td>\n",
       "    </tr>\n",
       "    <tr>\n",
       "      <th>2017-12-22</th>\n",
       "      <td>152.250</td>\n",
       "    </tr>\n",
       "    <tr>\n",
       "      <th>2017-12-26</th>\n",
       "      <td>153.180</td>\n",
       "    </tr>\n",
       "    <tr>\n",
       "      <th>2017-12-27</th>\n",
       "      <td>152.895</td>\n",
       "    </tr>\n",
       "    <tr>\n",
       "      <th>2017-12-28</th>\n",
       "      <td>153.660</td>\n",
       "    </tr>\n",
       "    <tr>\n",
       "      <th>2017-12-29</th>\n",
       "      <td>154.070</td>\n",
       "    </tr>\n",
       "  </tbody>\n",
       "</table>\n",
       "<p>503 rows × 1 columns</p>\n",
       "</div>"
      ],
      "text/plain": [
       "            Average\n",
       "Date               \n",
       "2016-01-04  135.105\n",
       "2016-01-05  135.870\n",
       "2016-01-06  134.600\n",
       "2016-01-07  133.725\n",
       "2016-01-08  132.570\n",
       "...             ...\n",
       "2017-12-22  152.250\n",
       "2017-12-26  153.180\n",
       "2017-12-27  152.895\n",
       "2017-12-28  153.660\n",
       "2017-12-29  154.070\n",
       "\n",
       "[503 rows x 1 columns]"
      ]
     },
     "execution_count": 52,
     "metadata": {},
     "output_type": "execute_result"
    }
   ],
   "source": [
    "df_test"
   ]
  },
  {
   "cell_type": "code",
   "execution_count": 50,
   "metadata": {},
   "outputs": [
    {
     "data": {
      "text/plain": [
       "array([[135.105, 135.87 , 134.6  , ..., 118.28 , 119.7  , 122.215],\n",
       "       [135.87 , 134.6  , 133.725, ..., 119.7  , 122.215, 124.91 ],\n",
       "       [134.6  , 133.725, 132.57 , ..., 122.215, 124.91 , 131.875],\n",
       "       ...,\n",
       "       [148.46 , 148.23 , 147.455, ..., 152.475, 152.25 , 153.18 ],\n",
       "       [148.23 , 147.455, 148.575, ..., 152.25 , 153.18 , 152.895],\n",
       "       [147.455, 148.575, 149.49 , ..., 153.18 , 152.895, 153.66 ]])"
      ]
     },
     "execution_count": 50,
     "metadata": {},
     "output_type": "execute_result"
    }
   ],
   "source": [
    "X_test"
   ]
  },
  {
   "cell_type": "code",
   "execution_count": 51,
   "metadata": {},
   "outputs": [
    {
     "data": {
      "text/plain": [
       "array([124.91 , 131.875, 132.245, 133.36 , 132.71 , 131.585, 132.695,\n",
       "       133.435, 132.13 , 133.335, 135.33 , 137.015, 138.22 , 138.69 ,\n",
       "       138.885, 140.7  , 139.78 , 141.715, 142.115, 142.435, 143.495,\n",
       "       145.885, 146.51 , 147.715, 148.56 , 146.58 , 146.355, 147.94 ,\n",
       "       148.63 , 149.365, 151.23 , 151.605, 152.715, 150.625, 148.98 ,\n",
       "       148.8  , 149.055, 150.585, 149.345, 150.43 , 151.57 , 151.53 ,\n",
       "       152.315, 144.78 , 145.6  , 148.29 , 149.25 , 148.005, 148.845,\n",
       "       149.875, 148.45 , 145.765, 145.715, 143.9  , 144.155, 146.375,\n",
       "       146.22 , 147.605, 148.89 , 149.915, 148.25 , 148.64 , 148.715,\n",
       "       148.395, 147.44 , 145.445, 146.53 , 147.305, 147.815, 150.295,\n",
       "       151.78 , 152.54 , 153.04 , 152.405, 152.81 , 152.37 , 153.145,\n",
       "       153.295, 153.565, 153.245, 152.595, 151.39 , 151.095, 151.195,\n",
       "       150.15 , 151.66 , 153.595, 154.13 , 153.49 , 154.04 , 148.395,\n",
       "       144.55 , 144.975, 147.465, 150.29 , 152.185, 151.38 , 151.165,\n",
       "       152.79 , 153.84 , 155.27 , 156.32 , 157.7  , 159.99 , 159.24 ,\n",
       "       159.74 , 160.015, 160.655, 160.87 , 161.325, 162.315, 162.485,\n",
       "       161.875, 161.26 , 160.85 , 160.745, 160.905, 160.33 , 160.91 ,\n",
       "       162.54 , 162.425, 162.205, 162.31 , 163.565, 162.49 , 162.375,\n",
       "       161.31 , 160.5  , 161.22 , 160.215, 159.85 , 160.785, 159.25 ,\n",
       "       158.98 , 159.145, 159.355, 159.48 , 158.96 , 158.86 , 159.86 ,\n",
       "       159.985, 160.88 , 159.985, 157.025, 156.685, 156.715, 154.63 ,\n",
       "       154.77 , 154.435, 155.37 , 155.51 , 154.775, 156.455, 155.375,\n",
       "       153.96 , 155.29 , 157.425, 161.23 , 158.95 , 157.695, 157.175,\n",
       "       157.275, 156.66 , 156.28 , 157.575, 155.42 , 154.025, 153.245,\n",
       "       154.81 , 155.115, 149.395, 151.64 , 151.96 , 150.355, 150.96 ,\n",
       "       150.495, 151.6  , 153.04 , 153.31 , 153.545, 152.825, 152.505,\n",
       "       152.77 , 152.755, 154.975, 154.495, 153.28 , 159.375, 160.335,\n",
       "       159.72 , 158.35 , 158.79 , 159.39 , 159.965, 161.685, 162.475,\n",
       "       161.87 , 162.51 , 163.68 , 163.72 , 163.005, 160.25 , 159.35 ,\n",
       "       160.37 , 159.86 , 162.785, 165.11 , 165.66 , 165.93 , 167.815,\n",
       "       168.67 , 168.815, 167.585, 166.63 , 167.35 , 166.595, 167.405,\n",
       "       166.97 , 167.415, 166.87 , 166.495, 166.1  , 166.94 , 168.615,\n",
       "       168.325, 168.72 , 168.71 , 166.715, 166.68 , 166.785, 167.68 ,\n",
       "       167.15 , 167.64 , 166.625, 168.32 , 170.63 , 173.58 , 177.69 ,\n",
       "       178.195, 178.25 , 175.825, 174.595, 174.295, 174.26 , 175.615,\n",
       "       175.18 , 177.26 , 176.69 , 176.855, 177.815, 179.37 , 179.24 ,\n",
       "       180.865, 181.83 , 180.785, 179.955, 180.715, 181.71 , 180.69 ,\n",
       "       180.265, 179.99 , 181.29 , 181.155, 180.54 , 180.28 , 180.745,\n",
       "       180.125, 177.565, 178.455, 177.24 , 176.015, 175.515, 177.91 ,\n",
       "       176.22 , 175.66 , 175.035, 173.93 , 174.615, 174.445, 173.125,\n",
       "       174.   , 173.975, 174.14 , 174.32 , 174.125, 174.11 , 174.57 ,\n",
       "       172.86 , 172.105, 171.78 , 170.105, 170.61 , 170.445, 170.46 ,\n",
       "       170.76 , 161.12 , 161.45 , 161.245, 160.995, 161.21 , 160.495,\n",
       "       160.055, 160.145, 159.56 , 159.065, 158.985, 158.75 , 154.39 ,\n",
       "       152.835, 152.33 , 151.75 , 150.47 , 150.63 , 151.14 , 152.825,\n",
       "       152.515, 150.72 , 151.675, 152.22 , 152.8  , 151.995, 153.34 ,\n",
       "       152.53 , 152.13 , 152.225, 152.25 , 152.5  , 152.305, 152.445,\n",
       "       152.5  , 151.87 , 153.07 , 155.61 , 154.815, 153.94 , 153.99 ,\n",
       "       154.195, 155.2  , 154.82 , 154.59 , 154.34 , 154.24 , 155.19 ,\n",
       "       154.92 , 155.165, 154.68 , 153.82 , 154.77 , 154.76 , 153.03 ,\n",
       "       152.815, 153.26 , 152.85 , 153.645, 153.69 , 154.01 , 153.06 ,\n",
       "       153.145, 148.48 , 147.93 , 147.19 , 146.42 , 146.76 , 145.465,\n",
       "       144.52 , 144.44 ,     nan, 145.195, 144.755, 144.885, 144.895,\n",
       "       143.92 , 142.38 , 141.61 , 141.825, 142.055, 142.35 , 141.96 ,\n",
       "       142.26 , 141.795, 140.365, 139.775, 140.765, 141.865, 142.965,\n",
       "       143.72 , 143.475, 142.66 , 142.845, 143.145, 143.74 , 143.53 ,\n",
       "       143.985, 143.525, 142.395, 144.07 , 145.44 , 145.815, 145.945,\n",
       "       144.625, 144.875, 144.6  , 145.15 , 145.495, 145.09 , 145.47 ,\n",
       "       146.68 , 145.965, 145.035, 145.305, 146.035, 146.77 , 146.565,\n",
       "       147.01 , 146.585, 147.07 , 148.3  , 148.24 , 147.33 , 147.395,\n",
       "       147.09 , 146.65 , 159.09 , 160.02 , 161.125, 161.025, 157.435,\n",
       "       154.715, 154.33 , 153.77 , 153.65 , 153.93 , 154.365, 153.7  ,\n",
       "       152.48 , 151.05 , 151.005, 151.035, 150.83 , 150.015, 148.46 ,\n",
       "       148.23 , 147.455, 148.575, 149.49 , 150.925, 151.825, 151.86 ,\n",
       "       151.765, 152.055, 152.315, 152.89 , 153.745, 153.965, 155.935,\n",
       "       155.71 , 155.155, 153.855, 154.29 , 155.23 , 156.505, 155.31 ,\n",
       "       154.405, 152.915, 153.695, 153.63 , 153.335, 152.475, 152.25 ,\n",
       "       153.18 , 152.895, 153.66 , 154.07 ])"
      ]
     },
     "execution_count": 51,
     "metadata": {},
     "output_type": "execute_result"
    }
   ],
   "source": [
    "y_test"
   ]
  },
  {
   "cell_type": "code",
   "execution_count": 41,
   "metadata": {
    "colab": {},
    "colab_type": "code",
    "id": "XJkXo_C3N2Oo",
    "outputId": "46e227cd-ab6f-4170-db1a-03f4d9e97355"
   },
   "outputs": [
    {
     "name": "stdout",
     "output_type": "stream",
     "text": [
      "Model: \"sequential_2\"\n",
      "_________________________________________________________________\n",
      "Layer (type)                 Output Shape              Param #   \n",
      "=================================================================\n",
      "simple_rnn_2 (SimpleRNN)     (None, 1)                 3         \n",
      "=================================================================\n",
      "Total params: 3\n",
      "Trainable params: 3\n",
      "Non-trainable params: 0\n",
      "_________________________________________________________________\n"
     ]
    }
   ],
   "source": [
    "model = Sequential()\n",
    "model.add(SimpleRNN(1, activation='relu', input_shape=(WINDOW_SIZE, 1)))\n",
    "model.compile(optimizer='adam',loss='mean_squared_error')\n",
    "model.summary()"
   ]
  },
  {
   "cell_type": "code",
   "execution_count": 42,
   "metadata": {
    "colab": {},
    "colab_type": "code",
    "id": "hPhbIB8EN2Os",
    "outputId": "283adab5-f7fc-460c-a245-dd960989265a"
   },
   "outputs": [
    {
     "name": "stdout",
     "output_type": "stream",
     "text": [
      "Epoch 1/100\n",
      " - 2s - loss: 1223918.7513\n",
      "Epoch 2/100\n",
      " - 1s - loss: 179896.4029\n",
      "Epoch 3/100\n",
      " - 1s - loss: 75282.5315\n",
      "Epoch 4/100\n",
      " - 1s - loss: 36988.3565\n",
      "Epoch 5/100\n",
      " - 1s - loss: 19022.8609\n",
      "Epoch 6/100\n",
      " - 1s - loss: 9753.3231\n",
      "Epoch 7/100\n",
      " - 1s - loss: 4835.0792\n",
      "Epoch 8/100\n",
      " - 1s - loss: 2263.2205\n",
      "Epoch 9/100\n",
      " - 1s - loss: 980.3449\n",
      "Epoch 10/100\n",
      " - 1s - loss: 385.6020\n",
      "Epoch 11/100\n",
      " - 1s - loss: 136.8308\n",
      "Epoch 12/100\n",
      " - 1s - loss: 45.9258\n",
      "Epoch 13/100\n",
      " - 1s - loss: 17.9444\n",
      "Epoch 14/100\n",
      " - 1s - loss: 10.9293\n",
      "Epoch 15/100\n",
      " - 1s - loss: 9.5577\n",
      "Epoch 16/100\n",
      " - 1s - loss: 9.3597\n",
      "Epoch 17/100\n",
      " - 1s - loss: 9.3475\n",
      "Epoch 18/100\n",
      " - 1s - loss: 9.3450\n",
      "Epoch 19/100\n",
      " - 1s - loss: 9.3458\n",
      "Epoch 20/100\n",
      " - 1s - loss: 9.3482\n",
      "Epoch 21/100\n",
      " - 1s - loss: 9.3509\n",
      "Epoch 22/100\n",
      " - 1s - loss: 9.3461\n",
      "Epoch 23/100\n",
      " - 1s - loss: 9.3403\n",
      "Epoch 24/100\n",
      " - 1s - loss: 9.3427\n",
      "Epoch 25/100\n",
      " - 1s - loss: 9.3463\n",
      "Epoch 26/100\n",
      " - 1s - loss: 9.3381\n",
      "Epoch 27/100\n",
      " - 1s - loss: 9.3436\n",
      "Epoch 28/100\n",
      " - 1s - loss: 9.3298\n",
      "Epoch 29/100\n",
      " - 1s - loss: 9.3248\n",
      "Epoch 30/100\n",
      " - 1s - loss: 9.3345\n",
      "Epoch 31/100\n",
      " - 1s - loss: 9.3171\n",
      "Epoch 32/100\n",
      " - 1s - loss: 9.3162\n",
      "Epoch 33/100\n",
      " - 1s - loss: 9.3212\n",
      "Epoch 34/100\n",
      " - 1s - loss: 9.2945\n",
      "Epoch 35/100\n",
      " - 1s - loss: 9.3132\n",
      "Epoch 36/100\n",
      " - 1s - loss: 9.2859\n",
      "Epoch 37/100\n",
      " - 1s - loss: 9.2743\n",
      "Epoch 38/100\n",
      " - 1s - loss: 9.3380\n",
      "Epoch 39/100\n",
      " - 1s - loss: 9.2487\n",
      "Epoch 40/100\n",
      " - 1s - loss: 9.2215\n",
      "Epoch 41/100\n",
      " - 1s - loss: 9.2386\n",
      "Epoch 42/100\n",
      " - 1s - loss: 9.2608\n",
      "Epoch 43/100\n",
      " - 1s - loss: 9.1886\n",
      "Epoch 44/100\n",
      " - 1s - loss: 9.2315\n",
      "Epoch 45/100\n",
      " - 1s - loss: 9.1143\n",
      "Epoch 46/100\n",
      " - 1s - loss: 9.2292\n",
      "Epoch 47/100\n",
      " - 1s - loss: 9.1732\n",
      "Epoch 48/100\n",
      " - 1s - loss: 8.9266\n",
      "Epoch 49/100\n",
      " - 1s - loss: 9.2943\n",
      "Epoch 50/100\n",
      " - 1s - loss: 9.1838\n",
      "Epoch 51/100\n",
      " - 1s - loss: 8.9507\n",
      "Epoch 52/100\n",
      " - 1s - loss: 8.7449\n",
      "Epoch 53/100\n",
      " - 1s - loss: 9.0843\n",
      "Epoch 54/100\n",
      " - 1s - loss: 8.8803\n",
      "Epoch 55/100\n",
      " - 1s - loss: 8.9830\n",
      "Epoch 56/100\n",
      " - 1s - loss: 8.7792\n",
      "Epoch 57/100\n",
      " - 1s - loss: 8.8385\n",
      "Epoch 58/100\n",
      " - 1s - loss: 8.6815\n",
      "Epoch 59/100\n",
      " - 1s - loss: 8.7144\n",
      "Epoch 60/100\n",
      " - 1s - loss: 8.6606\n",
      "Epoch 61/100\n",
      " - 1s - loss: 8.3945\n",
      "Epoch 62/100\n",
      " - 1s - loss: 8.4400\n",
      "Epoch 63/100\n",
      " - 1s - loss: 8.6760\n",
      "Epoch 64/100\n",
      " - 1s - loss: 8.3549\n",
      "Epoch 65/100\n",
      " - 1s - loss: 8.5696\n",
      "Epoch 66/100\n",
      " - 1s - loss: 7.9630\n",
      "Epoch 67/100\n",
      " - 1s - loss: 8.1544\n",
      "Epoch 68/100\n",
      " - 1s - loss: 7.7880\n",
      "Epoch 69/100\n",
      " - 1s - loss: 8.0423\n",
      "Epoch 70/100\n",
      " - 1s - loss: 7.8571\n",
      "Epoch 71/100\n",
      " - 1s - loss: 7.7007\n",
      "Epoch 72/100\n",
      " - 1s - loss: 7.5944\n",
      "Epoch 73/100\n",
      " - 1s - loss: 7.8161\n",
      "Epoch 74/100\n",
      " - 1s - loss: 7.7591\n",
      "Epoch 75/100\n",
      " - 1s - loss: 7.2889\n",
      "Epoch 76/100\n",
      " - 1s - loss: 7.4655\n",
      "Epoch 77/100\n",
      " - 1s - loss: 7.3862\n",
      "Epoch 78/100\n",
      " - 1s - loss: 7.2517\n",
      "Epoch 79/100\n",
      " - 1s - loss: 7.3352\n",
      "Epoch 80/100\n",
      " - 1s - loss: 7.1196\n",
      "Epoch 81/100\n",
      " - 1s - loss: 7.0041\n",
      "Epoch 82/100\n",
      " - 1s - loss: 7.0584\n",
      "Epoch 83/100\n",
      " - 1s - loss: 6.8708\n",
      "Epoch 84/100\n",
      " - 1s - loss: 6.8694\n",
      "Epoch 85/100\n",
      " - 1s - loss: 6.8130\n",
      "Epoch 86/100\n",
      " - 1s - loss: 6.7970\n",
      "Epoch 87/100\n",
      " - 1s - loss: 6.6670\n",
      "Epoch 88/100\n",
      " - 1s - loss: 6.7354\n",
      "Epoch 89/100\n",
      " - 1s - loss: 6.6772\n",
      "Epoch 90/100\n",
      " - 1s - loss: 6.5661\n",
      "Epoch 91/100\n",
      " - 1s - loss: 6.6447\n",
      "Epoch 92/100\n",
      " - 1s - loss: 6.6309\n",
      "Epoch 93/100\n",
      " - 1s - loss: 6.4835\n",
      "Epoch 94/100\n",
      " - 1s - loss: 6.3176\n",
      "Epoch 95/100\n",
      " - 1s - loss: 6.4515\n",
      "Epoch 96/100\n",
      " - 1s - loss: 6.3271\n",
      "Epoch 97/100\n",
      " - 1s - loss: 6.3186\n",
      "Epoch 98/100\n",
      " - 1s - loss: 6.2596\n",
      "Epoch 99/100\n",
      " - 1s - loss: 6.4617\n",
      "Epoch 100/100\n",
      " - 1s - loss: 6.2780\n"
     ]
    },
    {
     "data": {
      "text/plain": [
       "<keras.callbacks.callbacks.History at 0x25b51364048>"
      ]
     },
     "execution_count": 42,
     "metadata": {},
     "output_type": "execute_result"
    }
   ],
   "source": [
    "model.fit(np.expand_dims(X_train, axis=-1), y_train, epochs=100, batch_size=8, verbose=2)"
   ]
  },
  {
   "cell_type": "code",
   "execution_count": 46,
   "metadata": {
    "colab": {},
    "colab_type": "code",
    "id": "LPurNWDoN2Ox"
   },
   "outputs": [
    {
     "data": {
      "text/plain": [
       "array([[[135.105],\n",
       "        [135.87 ],\n",
       "        [134.6  ],\n",
       "        ...,\n",
       "        [118.28 ],\n",
       "        [119.7  ],\n",
       "        [122.215]],\n",
       "\n",
       "       [[135.87 ],\n",
       "        [134.6  ],\n",
       "        [133.725],\n",
       "        ...,\n",
       "        [119.7  ],\n",
       "        [122.215],\n",
       "        [124.91 ]],\n",
       "\n",
       "       [[134.6  ],\n",
       "        [133.725],\n",
       "        [132.57 ],\n",
       "        ...,\n",
       "        [122.215],\n",
       "        [124.91 ],\n",
       "        [131.875]],\n",
       "\n",
       "       ...,\n",
       "\n",
       "       [[148.46 ],\n",
       "        [148.23 ],\n",
       "        [147.455],\n",
       "        ...,\n",
       "        [152.475],\n",
       "        [152.25 ],\n",
       "        [153.18 ]],\n",
       "\n",
       "       [[148.23 ],\n",
       "        [147.455],\n",
       "        [148.575],\n",
       "        ...,\n",
       "        [152.25 ],\n",
       "        [153.18 ],\n",
       "        [152.895]],\n",
       "\n",
       "       [[147.455],\n",
       "        [148.575],\n",
       "        [149.49 ],\n",
       "        ...,\n",
       "        [153.18 ],\n",
       "        [152.895],\n",
       "        [153.66 ]]])"
      ]
     },
     "execution_count": 46,
     "metadata": {},
     "output_type": "execute_result"
    }
   ],
   "source": [
    "y_pred = model.predict(np.expand_dims(X_test, axis=-1))\n",
    "np.expand_dims(X_test, axis=-1)"
   ]
  },
  {
   "cell_type": "code",
   "execution_count": 44,
   "metadata": {
    "colab": {},
    "colab_type": "code",
    "id": "jFLo7yj-N2O0"
   },
   "outputs": [],
   "source": [
    "df_test_preds = df_test.copy()\n",
    "df_test_preds['Average'] = np.zeros(WINDOW_SIZE).tolist() + y_test.reshape(-1,1).squeeze().tolist()\n",
    "df_test_preds['Pred'] = np.zeros(WINDOW_SIZE).tolist() + y_pred.reshape(-1,1).squeeze().tolist()"
   ]
  },
  {
   "cell_type": "code",
   "execution_count": 45,
   "metadata": {
    "colab": {},
    "colab_type": "code",
    "id": "7VtmKg-fN2O3",
    "outputId": "36138205-174f-42a1-848d-b015058767e9"
   },
   "outputs": [
    {
     "data": {
      "text/plain": [
       "<matplotlib.axes._subplots.AxesSubplot at 0x25b524b7548>"
      ]
     },
     "execution_count": 45,
     "metadata": {},
     "output_type": "execute_result"
    },
    {
     "data": {
      "image/png": "[encoded data removed]",
      "text/plain": [
       "<Figure size 1152x288 with 1 Axes>"
      ]
     },
     "metadata": {
      "needs_background": "light"
     },
     "output_type": "display_data"
    }
   ],
   "source": [
    "df_test_preds.plot(legend=True)"
   ]
  },
  {
   "cell_type": "code",
   "execution_count": null,
   "metadata": {},
   "outputs": [],
   "source": []
  }
 ],
 "metadata": {
  "colab": {
   "name": "keras_rnn_ibm_stock.ipynb",
   "provenance": [],
   "version": "0.3.2"
  },
  "kernelspec": {
   "display_name": "Python 3",
   "language": "python",
   "name": "python3"
  },
  "language_info": {
   "codemirror_mode": {
    "name": "ipython",
    "version": 3
   },
   "file_extension": ".py",
   "mimetype": "text/x-python",
   "name": "python",
   "nbconvert_exporter": "python",
   "pygments_lexer": "ipython3",
   "version": "3.7.6"
  }
 },
 "nbformat": 4,
 "nbformat_minor": 1
}
